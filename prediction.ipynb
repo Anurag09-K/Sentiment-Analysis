{
 "cells": [
  {
   "cell_type": "code",
   "execution_count": 1,
   "metadata": {},
   "outputs": [],
   "source": [
    "# Step 1: Import Libraries and Load the Model\n",
    "import numpy as np\n",
    "import tensorflow as tf\n",
    "from tensorflow.keras.datasets import imdb\n",
    "from tensorflow.keras.preprocessing import sequence\n",
    "from tensorflow.keras.models import load_model"
   ]
  },
  {
   "cell_type": "code",
   "execution_count": 2,
   "metadata": {},
   "outputs": [],
   "source": [
    "# Load the IMDB dataset word index\n",
    "word_index = imdb.get_word_index()\n",
    "reverse_word_index = {value: key for key, value in word_index.items()}"
   ]
  },
  {
   "cell_type": "code",
   "execution_count": 3,
   "metadata": {},
   "outputs": [
    {
     "name": "stderr",
     "output_type": "stream",
     "text": [
      "WARNING:absl:Compiled the loaded model, but the compiled metrics have yet to be built. `model.compile_metrics` will be empty until you train or evaluate the model.\n"
     ]
    },
    {
     "data": {
      "text/html": [
       "<pre style=\"white-space:pre;overflow-x:auto;line-height:normal;font-family:Menlo,'DejaVu Sans Mono',consolas,'Courier New',monospace\"><span style=\"font-weight: bold\">Model: \"sequential_2\"</span>\n",
       "</pre>\n"
      ],
      "text/plain": [
       "\u001b[1mModel: \"sequential_2\"\u001b[0m\n"
      ]
     },
     "metadata": {},
     "output_type": "display_data"
    },
    {
     "data": {
      "text/html": [
       "<pre style=\"white-space:pre;overflow-x:auto;line-height:normal;font-family:Menlo,'DejaVu Sans Mono',consolas,'Courier New',monospace\">┏━━━━━━━━━━━━━━━━━━━━━━━━━━━━━━━━━┳━━━━━━━━━━━━━━━━━━━━━━━━┳━━━━━━━━━━━━━━━┓\n",
       "┃<span style=\"font-weight: bold\"> Layer (type)                    </span>┃<span style=\"font-weight: bold\"> Output Shape           </span>┃<span style=\"font-weight: bold\">       Param # </span>┃\n",
       "┡━━━━━━━━━━━━━━━━━━━━━━━━━━━━━━━━━╇━━━━━━━━━━━━━━━━━━━━━━━━╇━━━━━━━━━━━━━━━┩\n",
       "│ embedding_2 (<span style=\"color: #0087ff; text-decoration-color: #0087ff\">Embedding</span>)         │ (<span style=\"color: #00d7ff; text-decoration-color: #00d7ff\">None</span>, <span style=\"color: #00af00; text-decoration-color: #00af00\">500</span>, <span style=\"color: #00af00; text-decoration-color: #00af00\">128</span>)       │     <span style=\"color: #00af00; text-decoration-color: #00af00\">1,280,000</span> │\n",
       "├─────────────────────────────────┼────────────────────────┼───────────────┤\n",
       "│ simple_rnn_2 (<span style=\"color: #0087ff; text-decoration-color: #0087ff\">SimpleRNN</span>)        │ (<span style=\"color: #00d7ff; text-decoration-color: #00d7ff\">None</span>, <span style=\"color: #00af00; text-decoration-color: #00af00\">128</span>)            │        <span style=\"color: #00af00; text-decoration-color: #00af00\">32,896</span> │\n",
       "├─────────────────────────────────┼────────────────────────┼───────────────┤\n",
       "│ dense_1 (<span style=\"color: #0087ff; text-decoration-color: #0087ff\">Dense</span>)                 │ (<span style=\"color: #00d7ff; text-decoration-color: #00d7ff\">None</span>, <span style=\"color: #00af00; text-decoration-color: #00af00\">1</span>)              │           <span style=\"color: #00af00; text-decoration-color: #00af00\">129</span> │\n",
       "└─────────────────────────────────┴────────────────────────┴───────────────┘\n",
       "</pre>\n"
      ],
      "text/plain": [
       "┏━━━━━━━━━━━━━━━━━━━━━━━━━━━━━━━━━┳━━━━━━━━━━━━━━━━━━━━━━━━┳━━━━━━━━━━━━━━━┓\n",
       "┃\u001b[1m \u001b[0m\u001b[1mLayer (type)                   \u001b[0m\u001b[1m \u001b[0m┃\u001b[1m \u001b[0m\u001b[1mOutput Shape          \u001b[0m\u001b[1m \u001b[0m┃\u001b[1m \u001b[0m\u001b[1m      Param #\u001b[0m\u001b[1m \u001b[0m┃\n",
       "┡━━━━━━━━━━━━━━━━━━━━━━━━━━━━━━━━━╇━━━━━━━━━━━━━━━━━━━━━━━━╇━━━━━━━━━━━━━━━┩\n",
       "│ embedding_2 (\u001b[38;5;33mEmbedding\u001b[0m)         │ (\u001b[38;5;45mNone\u001b[0m, \u001b[38;5;34m500\u001b[0m, \u001b[38;5;34m128\u001b[0m)       │     \u001b[38;5;34m1,280,000\u001b[0m │\n",
       "├─────────────────────────────────┼────────────────────────┼───────────────┤\n",
       "│ simple_rnn_2 (\u001b[38;5;33mSimpleRNN\u001b[0m)        │ (\u001b[38;5;45mNone\u001b[0m, \u001b[38;5;34m128\u001b[0m)            │        \u001b[38;5;34m32,896\u001b[0m │\n",
       "├─────────────────────────────────┼────────────────────────┼───────────────┤\n",
       "│ dense_1 (\u001b[38;5;33mDense\u001b[0m)                 │ (\u001b[38;5;45mNone\u001b[0m, \u001b[38;5;34m1\u001b[0m)              │           \u001b[38;5;34m129\u001b[0m │\n",
       "└─────────────────────────────────┴────────────────────────┴───────────────┘\n"
      ]
     },
     "metadata": {},
     "output_type": "display_data"
    },
    {
     "data": {
      "text/html": [
       "<pre style=\"white-space:pre;overflow-x:auto;line-height:normal;font-family:Menlo,'DejaVu Sans Mono',consolas,'Courier New',monospace\"><span style=\"font-weight: bold\"> Total params: </span><span style=\"color: #00af00; text-decoration-color: #00af00\">1,313,027</span> (5.01 MB)\n",
       "</pre>\n"
      ],
      "text/plain": [
       "\u001b[1m Total params: \u001b[0m\u001b[38;5;34m1,313,027\u001b[0m (5.01 MB)\n"
      ]
     },
     "metadata": {},
     "output_type": "display_data"
    },
    {
     "data": {
      "text/html": [
       "<pre style=\"white-space:pre;overflow-x:auto;line-height:normal;font-family:Menlo,'DejaVu Sans Mono',consolas,'Courier New',monospace\"><span style=\"font-weight: bold\"> Trainable params: </span><span style=\"color: #00af00; text-decoration-color: #00af00\">1,313,025</span> (5.01 MB)\n",
       "</pre>\n"
      ],
      "text/plain": [
       "\u001b[1m Trainable params: \u001b[0m\u001b[38;5;34m1,313,025\u001b[0m (5.01 MB)\n"
      ]
     },
     "metadata": {},
     "output_type": "display_data"
    },
    {
     "data": {
      "text/html": [
       "<pre style=\"white-space:pre;overflow-x:auto;line-height:normal;font-family:Menlo,'DejaVu Sans Mono',consolas,'Courier New',monospace\"><span style=\"font-weight: bold\"> Non-trainable params: </span><span style=\"color: #00af00; text-decoration-color: #00af00\">0</span> (0.00 B)\n",
       "</pre>\n"
      ],
      "text/plain": [
       "\u001b[1m Non-trainable params: \u001b[0m\u001b[38;5;34m0\u001b[0m (0.00 B)\n"
      ]
     },
     "metadata": {},
     "output_type": "display_data"
    },
    {
     "data": {
      "text/html": [
       "<pre style=\"white-space:pre;overflow-x:auto;line-height:normal;font-family:Menlo,'DejaVu Sans Mono',consolas,'Courier New',monospace\"><span style=\"font-weight: bold\"> Optimizer params: </span><span style=\"color: #00af00; text-decoration-color: #00af00\">2</span> (12.00 B)\n",
       "</pre>\n"
      ],
      "text/plain": [
       "\u001b[1m Optimizer params: \u001b[0m\u001b[38;5;34m2\u001b[0m (12.00 B)\n"
      ]
     },
     "metadata": {},
     "output_type": "display_data"
    }
   ],
   "source": [
    "# Load the pre-trained model with ReLU activation\n",
    "model = load_model('simple_rnn_imdb.h5')\n",
    "model.summary()"
   ]
  },
  {
   "cell_type": "code",
   "execution_count": 4,
   "metadata": {},
   "outputs": [
    {
     "data": {
      "text/plain": [
       "[array([[-0.53830117, -0.4392906 ,  0.5379481 , ..., -0.5091503 ,\n",
       "          0.5434056 , -0.5239254 ],\n",
       "        [-0.04942004,  0.02710022,  0.05246911, ..., -0.08298623,\n",
       "          0.06394417, -0.00591892],\n",
       "        [-0.17502393, -0.00085959,  0.15023296, ..., -0.11529645,\n",
       "          0.12219317, -0.0027306 ],\n",
       "        ...,\n",
       "        [ 0.04878904,  0.01700125, -0.06073442, ..., -0.02300531,\n",
       "          0.02652097,  0.05893373],\n",
       "        [-0.00850225, -0.03784439,  0.05535188, ..., -0.02825359,\n",
       "         -0.07927313, -0.00590175],\n",
       "        [-0.03855846,  0.00984722,  0.00836228, ..., -0.00541632,\n",
       "          0.04004129,  0.03167858]], dtype=float32),\n",
       " array([[-0.1205157 , -0.01280206, -0.08063886, ...,  0.01434353,\n",
       "          0.08300032, -0.05462246],\n",
       "        [ 0.02202041, -0.1486556 ,  0.11907899, ..., -0.13052252,\n",
       "         -0.10101248,  0.15515347],\n",
       "        [-0.03216109, -0.06835458, -0.12408002, ..., -0.1801664 ,\n",
       "          0.01017405, -0.01346548],\n",
       "        ...,\n",
       "        [-0.03419058,  0.07876719,  0.02712575, ..., -0.07187705,\n",
       "         -0.08622942,  0.16166653],\n",
       "        [-0.12296207,  0.11245085, -0.02122877, ..., -0.11459835,\n",
       "          0.08564438,  0.09728612],\n",
       "        [-0.08325595, -0.10407802,  0.1783844 , ..., -0.1298998 ,\n",
       "         -0.13057853, -0.13122135]], dtype=float32),\n",
       " array([[ 0.01561731,  0.01035082, -0.0867405 , ...,  0.07456917,\n",
       "         -0.06532277, -0.08833052],\n",
       "        [ 0.0029509 ,  0.04864332, -0.09207177, ..., -0.23893893,\n",
       "         -0.02644632, -0.07762012],\n",
       "        [ 0.12717585, -0.11402786, -0.0597108 , ..., -0.08255351,\n",
       "         -0.10389864,  0.00100475],\n",
       "        ...,\n",
       "        [ 0.0560392 , -0.19938685,  0.03181972, ..., -0.0274356 ,\n",
       "          0.17202319, -0.00343608],\n",
       "        [-0.13875252,  0.21004133, -0.15333119, ...,  0.0278396 ,\n",
       "          0.13399242, -0.14656925],\n",
       "        [-0.02781178,  0.04530697,  0.16554661, ..., -0.02860402,\n",
       "          0.01614792,  0.0664075 ]], dtype=float32),\n",
       " array([-1.51877664e-03,  1.86016597e-02, -2.76007578e-02,  3.92424017e-02,\n",
       "        -2.65673064e-02, -2.66280794e-03,  2.89148614e-02, -3.94048132e-02,\n",
       "         1.59342978e-02, -2.59297458e-03, -9.68241040e-03, -7.07188854e-03,\n",
       "        -9.58097726e-03, -1.24338530e-02, -1.78595018e-02, -1.36125591e-02,\n",
       "        -1.37848705e-02,  1.78239692e-03,  3.57637554e-02, -2.15663034e-02,\n",
       "        -3.32551030e-03, -4.79049142e-03, -2.30714865e-02,  7.50993285e-03,\n",
       "        -1.68165136e-02, -2.50669953e-04,  2.61974074e-02, -3.76952328e-02,\n",
       "         1.07117100e-02, -1.17276376e-02,  1.36519577e-02,  5.14428727e-02,\n",
       "        -5.45378961e-03, -2.55542202e-03, -1.80697702e-02, -9.55817197e-03,\n",
       "         6.15457213e-03, -1.46305738e-02,  7.29800574e-03,  1.69125479e-02,\n",
       "        -1.76928136e-02, -3.16691329e-03,  1.15165450e-02, -9.54327360e-03,\n",
       "        -5.18528512e-03,  8.07298440e-03,  2.86175811e-04, -2.65861806e-02,\n",
       "        -2.68403837e-03, -1.42497988e-02, -2.85099465e-02, -1.55302854e-02,\n",
       "        -6.94754199e-05, -8.02214164e-03,  6.01357780e-03, -1.99412052e-02,\n",
       "        -5.73127484e-03, -2.95152199e-02, -6.01098314e-03,  1.40146762e-02,\n",
       "        -1.98655650e-02, -2.51770709e-02,  1.56345014e-02, -1.18127633e-02,\n",
       "        -2.36159731e-02,  1.07501540e-02, -1.29666915e-02, -3.27887805e-03,\n",
       "        -1.67716630e-02, -1.37659926e-02,  1.73603334e-02, -3.34099531e-02,\n",
       "        -1.83840133e-02, -1.52847888e-02, -2.08340064e-02,  1.15710925e-02,\n",
       "        -1.87898502e-02, -1.23797078e-03,  1.26029151e-02, -2.24403683e-02,\n",
       "        -9.50809196e-03, -1.09203132e-02, -2.87696850e-02,  2.87167933e-02,\n",
       "         2.45725526e-03, -2.11989228e-02, -9.51808132e-03, -7.24435505e-03,\n",
       "        -5.74949710e-03, -8.57522804e-03,  1.10722147e-02, -6.72285585e-03,\n",
       "         9.89672821e-03, -1.81182772e-02,  5.12356078e-03, -2.30345875e-02,\n",
       "         3.22808744e-03,  9.75734656e-05,  5.00103645e-03, -1.44160343e-02,\n",
       "        -2.38699932e-03, -2.47877766e-03, -3.20383278e-03, -2.48818826e-02,\n",
       "        -4.03731279e-02,  1.15836300e-02,  2.22131750e-03, -1.67994406e-02,\n",
       "        -5.14168199e-03, -1.53546548e-02, -1.69000924e-02,  8.39110091e-03,\n",
       "         7.57318456e-03, -2.42622290e-02, -1.92424878e-02, -9.01368167e-03,\n",
       "         1.99913383e-02,  2.60918476e-02, -1.38736032e-02,  7.82979932e-03,\n",
       "        -8.03327095e-03, -1.84109863e-02, -4.16916376e-03,  1.31396055e-02,\n",
       "        -1.42744742e-02, -1.58561729e-02,  4.75256238e-03, -4.08493690e-02],\n",
       "       dtype=float32),\n",
       " array([[-0.21163477],\n",
       "        [-0.21866377],\n",
       "        [ 0.06247278],\n",
       "        [-0.1800988 ],\n",
       "        [-0.08643972],\n",
       "        [ 0.08014722],\n",
       "        [-0.02140539],\n",
       "        [-0.05730267],\n",
       "        [ 0.05454292],\n",
       "        [-0.06145763],\n",
       "        [-0.25872493],\n",
       "        [ 0.0303939 ],\n",
       "        [ 0.06876705],\n",
       "        [-0.1806385 ],\n",
       "        [ 0.13229874],\n",
       "        [-0.09313987],\n",
       "        [-0.16162625],\n",
       "        [ 0.11381862],\n",
       "        [-0.02976871],\n",
       "        [ 0.19620927],\n",
       "        [-0.00058899],\n",
       "        [-0.20807466],\n",
       "        [ 0.03470727],\n",
       "        [-0.13040744],\n",
       "        [ 0.17756388],\n",
       "        [ 0.19696969],\n",
       "        [-0.21359271],\n",
       "        [-0.19152331],\n",
       "        [ 0.04346359],\n",
       "        [ 0.10561509],\n",
       "        [-0.0977098 ],\n",
       "        [ 0.0955861 ],\n",
       "        [ 0.1322253 ],\n",
       "        [ 0.12115975],\n",
       "        [-0.00289711],\n",
       "        [ 0.00046346],\n",
       "        [ 0.19436501],\n",
       "        [-0.0071398 ],\n",
       "        [ 0.12710987],\n",
       "        [-0.1733144 ],\n",
       "        [-0.22516708],\n",
       "        [ 0.14173752],\n",
       "        [ 0.09786597],\n",
       "        [ 0.00577582],\n",
       "        [ 0.02702964],\n",
       "        [ 0.00170431],\n",
       "        [ 0.16963886],\n",
       "        [-0.17058647],\n",
       "        [ 0.06572825],\n",
       "        [ 0.09080876],\n",
       "        [ 0.06728437],\n",
       "        [ 0.0062132 ],\n",
       "        [ 0.13725886],\n",
       "        [-0.07029612],\n",
       "        [ 0.20447053],\n",
       "        [ 0.24361928],\n",
       "        [-0.01386659],\n",
       "        [-0.17376809],\n",
       "        [-0.2071251 ],\n",
       "        [-0.29331347],\n",
       "        [ 0.0990439 ],\n",
       "        [-0.13462824],\n",
       "        [ 0.13824214],\n",
       "        [-0.15934353],\n",
       "        [-0.02999139],\n",
       "        [-0.0748589 ],\n",
       "        [-0.13634884],\n",
       "        [ 0.05770768],\n",
       "        [ 0.09250165],\n",
       "        [-0.04171305],\n",
       "        [ 0.20797737],\n",
       "        [ 0.02830505],\n",
       "        [ 0.09404478],\n",
       "        [ 0.2401819 ],\n",
       "        [-0.12235599],\n",
       "        [ 0.07612664],\n",
       "        [-0.0610301 ],\n",
       "        [ 0.1329878 ],\n",
       "        [ 0.07002014],\n",
       "        [-0.11144954],\n",
       "        [ 0.06121769],\n",
       "        [-0.1136313 ],\n",
       "        [-0.17338447],\n",
       "        [-0.03991203],\n",
       "        [ 0.17092416],\n",
       "        [-0.06620737],\n",
       "        [ 0.2535854 ],\n",
       "        [-0.11936828],\n",
       "        [ 0.16389386],\n",
       "        [-0.23129702],\n",
       "        [ 0.02924315],\n",
       "        [-0.01419895],\n",
       "        [ 0.11217938],\n",
       "        [-0.03065142],\n",
       "        [ 0.09680428],\n",
       "        [-0.0310272 ],\n",
       "        [-0.09377061],\n",
       "        [-0.30572087],\n",
       "        [ 0.00498728],\n",
       "        [ 0.06841595],\n",
       "        [ 0.04487556],\n",
       "        [-0.10536171],\n",
       "        [-0.20661278],\n",
       "        [-0.23553906],\n",
       "        [-0.0372372 ],\n",
       "        [ 0.23518582],\n",
       "        [ 0.07745747],\n",
       "        [ 0.09096757],\n",
       "        [ 0.12478945],\n",
       "        [-0.18558088],\n",
       "        [ 0.1077294 ],\n",
       "        [ 0.02764051],\n",
       "        [-0.12547354],\n",
       "        [-0.11691663],\n",
       "        [ 0.09808084],\n",
       "        [-0.19590075],\n",
       "        [ 0.20983744],\n",
       "        [-0.230905  ],\n",
       "        [ 0.13203864],\n",
       "        [ 0.02216827],\n",
       "        [-0.14651638],\n",
       "        [ 0.03288283],\n",
       "        [ 0.13947657],\n",
       "        [-0.10815202],\n",
       "        [-0.19524011],\n",
       "        [-0.22007895],\n",
       "        [-0.01073511],\n",
       "        [ 0.00818735]], dtype=float32),\n",
       " array([0.12288581], dtype=float32)]"
      ]
     },
     "execution_count": 4,
     "metadata": {},
     "output_type": "execute_result"
    }
   ],
   "source": [
    "model.get_weights()"
   ]
  },
  {
   "cell_type": "code",
   "execution_count": 5,
   "metadata": {},
   "outputs": [],
   "source": [
    "# Step 2: Helper Functions\n",
    "# Function to decode reviews\n",
    "def decode_review(encoded_review):\n",
    "    return ' '.join([reverse_word_index.get(i - 3, '?') for i in encoded_review])\n",
    "\n",
    "# Function to preprocess user input\n",
    "def preprocess_text(text):\n",
    "    words = text.lower().split()\n",
    "    encoded_review = [word_index.get(word, 2) + 3 for word in words]\n",
    "    padded_review = sequence.pad_sequences([encoded_review], maxlen=500)\n",
    "    return padded_review"
   ]
  },
  {
   "cell_type": "code",
   "execution_count": 6,
   "metadata": {},
   "outputs": [],
   "source": [
    "### Prediction  function\n",
    "\n",
    "def predict_sentiment(review):\n",
    "    preprocessed_input=preprocess_text(review)\n",
    "\n",
    "    prediction=model.predict(preprocessed_input)\n",
    "\n",
    "    sentiment = 'Positive' if prediction[0][0] > 0.5 else 'Negative'\n",
    "    \n",
    "    return sentiment, prediction[0][0]\n",
    "\n"
   ]
  },
  {
   "cell_type": "code",
   "execution_count": 7,
   "metadata": {},
   "outputs": [
    {
     "name": "stdout",
     "output_type": "stream",
     "text": [
      "\u001b[1m1/1\u001b[0m \u001b[32m━━━━━━━━━━━━━━━━━━━━\u001b[0m\u001b[37m\u001b[0m \u001b[1m0s\u001b[0m 489ms/step\n",
      "Review: This movie was fantastic! The acting was great and the plot was thrilling.\n",
      "Sentiment: Positive\n",
      "Prediction Score: 0.54340660572052\n"
     ]
    }
   ],
   "source": [
    "# Step 4: User Input and Prediction\n",
    "# Example review for prediction\n",
    "example_review = \"This movie was fantastic! The acting was great and the plot was thrilling.\"\n",
    "\n",
    "sentiment,score=predict_sentiment(example_review)\n",
    "\n",
    "print(f'Review: {example_review}')\n",
    "print(f'Sentiment: {sentiment}')\n",
    "print(f'Prediction Score: {score}')"
   ]
  },
  {
   "cell_type": "code",
   "execution_count": null,
   "metadata": {},
   "outputs": [],
   "source": []
  },
  {
   "cell_type": "code",
   "execution_count": null,
   "metadata": {},
   "outputs": [],
   "source": []
  },
  {
   "cell_type": "code",
   "execution_count": null,
   "metadata": {},
   "outputs": [],
   "source": []
  }
 ],
 "metadata": {
  "kernelspec": {
   "display_name": "Python 3",
   "language": "python",
   "name": "python3"
  },
  "language_info": {
   "codemirror_mode": {
    "name": "ipython",
    "version": 3
   },
   "file_extension": ".py",
   "mimetype": "text/x-python",
   "name": "python",
   "nbconvert_exporter": "python",
   "pygments_lexer": "ipython3",
   "version": "3.11.0"
  }
 },
 "nbformat": 4,
 "nbformat_minor": 2
}
